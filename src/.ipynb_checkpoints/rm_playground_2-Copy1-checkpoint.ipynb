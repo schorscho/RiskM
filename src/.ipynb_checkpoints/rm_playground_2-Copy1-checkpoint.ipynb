{
 "cells": [
  {
   "cell_type": "code",
   "execution_count": 1,
   "metadata": {},
   "outputs": [
    {
     "name": "stderr",
     "output_type": "stream",
     "text": [
      "Using TensorFlow backend.\n"
     ]
    }
   ],
   "source": [
    "from riskm_full import RMC, load_y_data, build_keras_model, compile_keras_model\n",
    "import keras\n",
    "import numpy as np\n",
    "import pyspark.sql.functions as sf"
   ]
  },
  {
   "cell_type": "code",
   "execution_count": 21,
   "metadata": {},
   "outputs": [
    {
     "name": "stdout",
     "output_type": "stream",
     "text": [
      "CPU times: user 12 ms, sys: 0 ns, total: 12 ms\n",
      "Wall time: 1min\n"
     ]
    }
   ],
   "source": [
    "%%time\n",
    "df = spark.read.csv(path=os.path.join(RMC.OUTPUT_DIR, RMC.PROPHET_INPUT_ALL_RESHAPED + '.csv'), \n",
    "                    header=True, inferSchema=True)"
   ]
  },
  {
   "cell_type": "code",
   "execution_count": 4,
   "metadata": {},
   "outputs": [
    {
     "name": "stdout",
     "output_type": "stream",
     "text": [
      "CPU times: user 0 ns, sys: 0 ns, total: 0 ns\n",
      "Wall time: 56.5 ms\n"
     ]
    }
   ],
   "source": [
    "%%time\n",
    "col_nms = df.columns\n",
    "del col_nms[0:2]"
   ]
  },
  {
   "cell_type": "code",
   "execution_count": 19,
   "metadata": {},
   "outputs": [
    {
     "data": {
      "text/plain": [
       "78"
      ]
     },
     "execution_count": 19,
     "metadata": {},
     "output_type": "execute_result"
    }
   ],
   "source": [
    "len(col_nms)"
   ]
  },
  {
   "cell_type": "code",
   "execution_count": 5,
   "metadata": {},
   "outputs": [
    {
     "name": "stdout",
     "output_type": "stream",
     "text": [
      "CPU times: user 24 ms, sys: 4 ms, total: 28 ms\n",
      "Wall time: 230 ms\n"
     ]
    }
   ],
   "source": [
    "%%time\n",
    "df = df.withColumn('FEATURES', sf.array(col_nms))"
   ]
  },
  {
   "cell_type": "code",
   "execution_count": 6,
   "metadata": {},
   "outputs": [
    {
     "name": "stdout",
     "output_type": "stream",
     "text": [
      "CPU times: user 8 ms, sys: 0 ns, total: 8 ms\n",
      "Wall time: 28.4 ms\n"
     ]
    }
   ],
   "source": [
    "%%time\n",
    "df = df.drop(*col_nms)"
   ]
  },
  {
   "cell_type": "code",
   "execution_count": 7,
   "metadata": {},
   "outputs": [
    {
     "name": "stdout",
     "output_type": "stream",
     "text": [
      "+--------+------+--------------------+\n",
      "|SCENARIO| MONTH|            FEATURES|\n",
      "+--------+------+--------------------+\n",
      "|    3073|204602|[3.2278, 16.43651...|\n",
      "|    3073|204603|[3.3164, 3.164268...|\n",
      "|    3073|204604|[3.2898, 5.379863...|\n",
      "|    3073|204605|[3.3074, 1.22653,...|\n",
      "|    3073|204606|[3.297, -1.983574...|\n",
      "|    3073|204607|[3.308, 0.937481,...|\n",
      "|    3073|204608|[3.3306, -5.91156...|\n",
      "|    3073|204609|[3.3605, 2.192019...|\n",
      "|    3073|204610|[3.3959, -2.77258...|\n",
      "|    3073|204611|[3.4704, 12.53449...|\n",
      "|    3073|204612|[3.5013, 13.73183...|\n",
      "|    3073|204701|[3.5083, -3.66655...|\n",
      "|    3073|204702|[3.4792, -3.92332...|\n",
      "|    3073|204703|[3.4618, 3.416556...|\n",
      "|    3073|204704|[3.445, -1.606044...|\n",
      "|    3073|204705|[3.4435, 4.139399...|\n",
      "|    3073|204706|[3.4961, 2.713169...|\n",
      "|    3073|204707|[3.5195, 8.026934...|\n",
      "|    3073|204708|[3.599, -11.14916...|\n",
      "|    3073|204709|[3.5838, 12.18343...|\n",
      "+--------+------+--------------------+\n",
      "only showing top 20 rows\n",
      "\n"
     ]
    }
   ],
   "source": [
    "df.show()"
   ]
  },
  {
   "cell_type": "code",
   "execution_count": 9,
   "metadata": {},
   "outputs": [
    {
     "name": "stdout",
     "output_type": "stream",
     "text": [
      "CPU times: user 3min 1s, sys: 11.6 s, total: 3min 13s\n",
      "Wall time: 5min 8s\n"
     ]
    }
   ],
   "source": [
    "%%time\n",
    "data = np.array(df.select('FEATURES').collect())"
   ]
  },
  {
   "cell_type": "code",
   "execution_count": 10,
   "metadata": {},
   "outputs": [
    {
     "data": {
      "text/plain": [
       "(7210721, 1, 78)"
      ]
     },
     "execution_count": 10,
     "metadata": {},
     "output_type": "execute_result"
    }
   ],
   "source": [
    "data.shape"
   ]
  },
  {
   "cell_type": "code",
   "execution_count": 11,
   "metadata": {},
   "outputs": [],
   "source": [
    "data = data.reshape(-1, 78)"
   ]
  },
  {
   "cell_type": "code",
   "execution_count": 12,
   "metadata": {},
   "outputs": [
    {
     "data": {
      "text/plain": [
       "(7210721, 78)"
      ]
     },
     "execution_count": 12,
     "metadata": {},
     "output_type": "execute_result"
    }
   ],
   "source": [
    "data.shape"
   ]
  },
  {
   "cell_type": "code",
   "execution_count": 13,
   "metadata": {},
   "outputs": [
    {
     "data": {
      "text/plain": [
       "array([  3.2278  ,  16.436515,   1.8131  ,   1.308583,   0.5     ,\n",
       "         5.      ,   0.      ,   0.      ,   3.2278  ,   3.3147  ,\n",
       "         3.900312,   3.94113 ,   3.977561,   4.010063,   4.038923,\n",
       "         4.064567,   4.087397,   4.10766 ,   4.125589,   4.141539,\n",
       "         3.392381,   4.155718,   4.168259,   4.179411,   4.189291,\n",
       "         4.198068,   4.205789,   4.212662,   4.218778,   4.224119,\n",
       "         4.228869,   3.469876,   4.233055,   3.545964,   3.618282,\n",
       "         3.685686,   3.747556,   3.80385 ,   3.854632,   1.599747,\n",
       "        -0.330767,   0.      ,   0.      ,   3.484778,   3.9615  ,\n",
       "         0.559925,   1.785954,   3.2278  ,   3.3147  ,   3.9397  ,\n",
       "         3.9866  ,   4.029   ,   4.0673  ,   4.1017  ,   4.1326  ,\n",
       "         4.1604  ,   4.1853  ,   4.2075  ,   4.2274  ,   3.3937  ,\n",
       "         4.2452  ,   4.261   ,   4.2751  ,   4.2876  ,   4.2987  ,\n",
       "         4.3084  ,   4.317   ,   4.3246  ,   4.3311  ,   4.3368  ,\n",
       "         3.4735  ,   4.3417  ,   3.5529  ,   3.6294  ,   3.7017  ,\n",
       "         3.769   ,   3.8311  ,   3.8879  ])"
      ]
     },
     "execution_count": 13,
     "metadata": {},
     "output_type": "execute_result"
    }
   ],
   "source": [
    "data[0]"
   ]
  },
  {
   "cell_type": "code",
   "execution_count": 19,
   "metadata": {},
   "outputs": [],
   "source": [
    "df = df.where(df.SCENARIO==2)"
   ]
  },
  {
   "cell_type": "code",
   "execution_count": 20,
   "metadata": {},
   "outputs": [
    {
     "name": "stdout",
     "output_type": "stream",
     "text": [
      "+--------+-----+--------+\n",
      "|SCENARIO|MONTH|FEATURES|\n",
      "+--------+-----+--------+\n",
      "+--------+-----+--------+\n",
      "\n",
      "CPU times: user 8 ms, sys: 0 ns, total: 8 ms\n",
      "Wall time: 54.2 s\n"
     ]
    }
   ],
   "source": [
    "%%time\n",
    "df.show()"
   ]
  },
  {
   "cell_type": "code",
   "execution_count": 24,
   "metadata": {},
   "outputs": [],
   "source": [
    "data = data.reshape(-1,721, 78)"
   ]
  },
  {
   "cell_type": "code",
   "execution_count": 25,
   "metadata": {},
   "outputs": [
    {
     "data": {
      "text/plain": [
       "(10001, 721, 78)"
      ]
     },
     "execution_count": 25,
     "metadata": {},
     "output_type": "execute_result"
    }
   ],
   "source": [
    "data.shape"
   ]
  },
  {
   "cell_type": "code",
   "execution_count": 28,
   "metadata": {},
   "outputs": [
    {
     "name": "stdout",
     "output_type": "stream",
     "text": [
      "CPU times: user 0 ns, sys: 2.76 s, total: 2.76 s\n",
      "Wall time: 2.82 s\n"
     ]
    }
   ],
   "source": [
    "%%time\n",
    "np.save(os.path.join(RMC.OUTPUT_DIR, 'test.npy'), data)"
   ]
  },
  {
   "cell_type": "code",
   "execution_count": 30,
   "metadata": {},
   "outputs": [
    {
     "name": "stdout",
     "output_type": "stream",
     "text": [
      "CPU times: user 0 ns, sys: 1.32 s, total: 1.32 s\n",
      "Wall time: 1.32 s\n"
     ]
    }
   ],
   "source": [
    "%%time\n",
    "data = np.load(os.path.join(RMC.OUTPUT_DIR, 'test.npy'))"
   ]
  },
  {
   "cell_type": "code",
   "execution_count": 31,
   "metadata": {},
   "outputs": [
    {
     "data": {
      "text/plain": [
       "(10001, 721, 78)"
      ]
     },
     "execution_count": 31,
     "metadata": {},
     "output_type": "execute_result"
    }
   ],
   "source": [
    "data.shape"
   ]
  },
  {
   "cell_type": "code",
   "execution_count": null,
   "metadata": {},
   "outputs": [],
   "source": []
  }
 ],
 "metadata": {
  "kernelspec": {
   "display_name": "Python 3",
   "language": "python",
   "name": "python3"
  },
  "language_info": {
   "codemirror_mode": {
    "name": "ipython",
    "version": 3
   },
   "file_extension": ".py",
   "mimetype": "text/x-python",
   "name": "python",
   "nbconvert_exporter": "python",
   "pygments_lexer": "ipython3",
   "version": "3.5.2"
  }
 },
 "nbformat": 4,
 "nbformat_minor": 2
}
